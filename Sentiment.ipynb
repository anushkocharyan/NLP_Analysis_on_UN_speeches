{
 "cells": [
  {
   "cell_type": "code",
   "execution_count": 492,
   "metadata": {},
   "outputs": [],
   "source": [
    "import numpy as np\n",
    "import pandas as pd\n",
    "import os\n",
    "import re\n",
    "import os.path\n",
    "import plotly.plotly as py\n",
    "from plotly.offline import download_plotlyjs, init_notebook_mode, plot, iplot\n",
    "from vaderSentiment.vaderSentiment import SentimentIntensityAnalyzer"
   ]
  },
  {
   "cell_type": "code",
   "execution_count": 433,
   "metadata": {},
   "outputs": [],
   "source": [
    "def get_session_data(ses_names):\n",
    "    \"\"\"\n",
    "    Given a list of session names, opens all session folders and\n",
    "    saves all txt files, country names and session years\n",
    "    into three lists.\n",
    "    \"\"\"\n",
    "    path = os.getcwd()  \n",
    "    all_sessions = []\n",
    "    all_countries = []\n",
    "    years = []\n",
    "    for session in ses_names:\n",
    "        sessions = []\n",
    "        countries = []\n",
    "        f_path = os.path.join(path,session)\n",
    "        years.append(int(f_path[-4:]))\n",
    "        files = os.listdir(f_path)\n",
    "        for file in files:\n",
    "             if file.endswith('.txt'):\n",
    "                with open(os.path.join(f_path,file), 'r', encoding='utf-8') as f:\n",
    "                    countries.append(file.split('_')[0])\n",
    "                    sessions.append(f.read())\n",
    "        all_sessions.append(sessions)\n",
    "        all_countries.append(countries)\n",
    "\n",
    "    return all_sessions, all_countries, years "
   ]
  },
  {
   "cell_type": "code",
   "execution_count": 522,
   "metadata": {},
   "outputs": [
    {
     "data": {
      "text/plain": [
       "['Session 29 - 1974',\n",
       " 'Session 50 - 1995',\n",
       " 'Session 64 - 2009',\n",
       " 'Session 51 - 1996',\n",
       " 'Session 27 - 1972']"
      ]
     },
     "execution_count": 522,
     "metadata": {},
     "output_type": "execute_result"
    }
   ],
   "source": [
    "# Get the names of all sessions in the current directory\n",
    "ses_names = [filename for filename in os.listdir() if filename.startswith('Session')]\n",
    "ses_names[:5]"
   ]
  },
  {
   "cell_type": "code",
   "execution_count": 434,
   "metadata": {},
   "outputs": [],
   "source": [
    "all_sessions, all_countries, years = get_session_data(ses_names)"
   ]
  },
  {
   "cell_type": "code",
   "execution_count": 546,
   "metadata": {},
   "outputs": [
    {
     "name": "stdout",
     "output_type": "stream",
     "text": [
      "Total number of sessions is  49\n",
      "Number of countries in General Debate in 1974 is 129\n"
     ]
    }
   ],
   "source": [
    "print('Total number of sessions is ', len(all_sessions))\n",
    "print('Number of countries in General Debate in',years[0], 'is', len(all_sessions[0]))"
   ]
  },
  {
   "cell_type": "markdown",
   "metadata": {},
   "source": [
    "# Sentiment Analysis "
   ]
  },
  {
   "cell_type": "code",
   "execution_count": 543,
   "metadata": {},
   "outputs": [],
   "source": [
    "def get_sentiment(text):\n",
    "    \"\"\"\n",
    "    Given a text, computes polarity scores and returns 1 if\n",
    "    the text's sentiment is negative and zero otherwise.\n",
    "    A sentiment is negative if the compound score is lower than -0.05.\n",
    "    \"\"\"\n",
    "    sid = SentimentIntensityAnalyzer()\n",
    "    sentiment_dict = sid.polarity_scores(text)\n",
    "    count = 0\n",
    "    if sentiment_dict['compound'] <= - 0.05:\n",
    "        count += 1\n",
    "    return count"
   ]
  },
  {
   "cell_type": "code",
   "execution_count": 459,
   "metadata": {},
   "outputs": [],
   "source": [
    "def get_neg_sentiments(all_sessions, all_countries, years): #list of lists\n",
    "    all_neg_sents = []\n",
    "    ses_len = len(all_sessions)\n",
    "\n",
    "    for i in range(ses_len):\n",
    "        neg_sentim_list = []\n",
    "        for j in range(len(all_sessions[i])):\n",
    "            if get_sentiment(all_sessions[i][j]) > 0:\n",
    "                neg_sentim_list.append(all_countries[i][j])\n",
    "        all_neg_sents.append((years[i],neg_sentim_list))\n",
    "        \n",
    "    return all_neg_sents"
   ]
  },
  {
   "cell_type": "code",
   "execution_count": 460,
   "metadata": {},
   "outputs": [],
   "source": [
    "neg_sents = get_neg_sentiments(all_sessions, all_countries, years)"
   ]
  },
  {
   "cell_type": "code",
   "execution_count": 480,
   "metadata": {},
   "outputs": [],
   "source": [
    "neg_sents = sorted(neg_sents, key = lambda x: x[0])"
   ]
  },
  {
   "cell_type": "code",
   "execution_count": 486,
   "metadata": {},
   "outputs": [],
   "source": [
    "neg_per_year = [ ]\n",
    "for tup in neg_sents:\n",
    "    neg_per_year.append(len(tup[1]))\n",
    "    "
   ]
  },
  {
   "cell_type": "code",
   "execution_count": 523,
   "metadata": {},
   "outputs": [
    {
     "data": {
      "text/plain": [
       "'file:///Users/anushkocharyan/Desktop/UN_Sessions/Negative Speeches.html'"
      ]
     },
     "execution_count": 523,
     "metadata": {},
     "output_type": "execute_result"
    }
   ],
   "source": [
    "data = [go.Bar(\n",
    "            x = list(range(1970, 2019)),\n",
    "            y = neg_per_year\n",
    "    )]\n",
    "\n",
    "layout = go.Layout(\n",
    "    title='<b>Number of Negative Speeches from Each Session</b>',\n",
    "    xaxis=dict(\n",
    "        title='Session Year'\n",
    "    ),\n",
    "    yaxis=dict(\n",
    "        title='Number of Negative Speeches'\n",
    "    ),\n",
    "    \n",
    ")\n",
    "\n",
    "fig = go.Figure(data=data, layout=layout)\n",
    "\n",
    "plot(fig, filename='Negative Speeches.html')"
   ]
  },
  {
   "cell_type": "code",
   "execution_count": 466,
   "metadata": {},
   "outputs": [],
   "source": [
    "neg_sent_countries = [ ]\n",
    "for tup in neg_sents:\n",
    "    neg_sent_countries.extend(tup[1]) "
   ]
  },
  {
   "cell_type": "code",
   "execution_count": 500,
   "metadata": {},
   "outputs": [
    {
     "data": {
      "text/plain": [
       "[('IRN', 14),\n",
       " ('CUB', 13),\n",
       " ('ISR', 12),\n",
       " ('SYR', 11),\n",
       " ('LBY', 10),\n",
       " ('COL', 7),\n",
       " ('SGP', 6),\n",
       " ('MYS', 6),\n",
       " ('IRQ', 6),\n",
       " ('SAU', 5)]"
      ]
     },
     "execution_count": 500,
     "metadata": {},
     "output_type": "execute_result"
    }
   ],
   "source": [
    "top_neg_countries = Counter(neg_sent_countries).most_common(10)\n",
    "top_neg_countries"
   ]
  },
  {
   "cell_type": "code",
   "execution_count": 501,
   "metadata": {},
   "outputs": [],
   "source": [
    "neg_speech = []\n",
    "for c in top_neg_countries:\n",
    "    neg_speech.append(c[1])"
   ]
  },
  {
   "cell_type": "code",
   "execution_count": 524,
   "metadata": {},
   "outputs": [
    {
     "data": {
      "text/plain": [
       "'file:///Users/anushkocharyan/Desktop/UN_Sessions/Countries with Most Negative Speeches Delivered.html'"
      ]
     },
     "execution_count": 524,
     "metadata": {},
     "output_type": "execute_result"
    }
   ],
   "source": [
    "# generate a plot of countries with the highest number of negative speeches\n",
    "data = [go.Bar(\n",
    "            x = ['Iran', 'Cuba', 'Israel', 'Syria', 'Lybia',\n",
    "                 'Colombia', 'Singapore', 'Malaysia', 'Iraq', 'Saudi Arabia'],\n",
    "            y = neg_speech\n",
    "    )]\n",
    "\n",
    "layout = go.Layout(\n",
    "    title='<b>Countries with Greatest Number of Negative Speeches Delivered</b>',\n",
    "    xaxis=dict(\n",
    "        title='Country'\n",
    "    ),\n",
    "    yaxis=dict(\n",
    "        title='Number of Negative Speeches'\n",
    "    ),\n",
    "    \n",
    ")\n",
    "\n",
    "fig = go.Figure(data=data, layout=layout)\n",
    "\n",
    "plot(fig, filename='Countries with Most Negative Speeches Delivered.html')"
   ]
  },
  {
   "cell_type": "code",
   "execution_count": null,
   "metadata": {},
   "outputs": [],
   "source": []
  }
 ],
 "metadata": {
  "kernelspec": {
   "display_name": "Python 3",
   "language": "python",
   "name": "python3"
  },
  "language_info": {
   "codemirror_mode": {
    "name": "ipython",
    "version": 3
   },
   "file_extension": ".py",
   "mimetype": "text/x-python",
   "name": "python",
   "nbconvert_exporter": "python",
   "pygments_lexer": "ipython3",
   "version": "3.6.7"
  }
 },
 "nbformat": 4,
 "nbformat_minor": 2
}
